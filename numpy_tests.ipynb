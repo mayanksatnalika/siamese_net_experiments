{
 "cells": [
  {
   "cell_type": "code",
   "execution_count": 2,
   "metadata": {},
   "outputs": [],
   "source": [
    "import numpy as np"
   ]
  },
  {
   "cell_type": "code",
   "execution_count": 31,
   "metadata": {},
   "outputs": [],
   "source": [
    "l1 = np.array([2,3,4,5,10])\n",
    "l2 = np.array([5])\n",
    "l3 = np.array([2,5,11])\n",
    "l4 = np.array(4)\n",
    "l5 = np.array([[2,3,4,5,6],[1,2,34,56,1]])"
   ]
  },
  {
   "cell_type": "code",
   "execution_count": 33,
   "metadata": {},
   "outputs": [
    {
     "data": {
      "text/plain": [
       "(2, 5)"
      ]
     },
     "execution_count": 33,
     "metadata": {},
     "output_type": "execute_result"
    }
   ],
   "source": [
    "l5.shape "
   ]
  },
  {
   "cell_type": "markdown",
   "metadata": {},
   "source": [
    "### simple `+` on numpy arrays: "
   ]
  },
  {
   "cell_type": "code",
   "execution_count": 34,
   "metadata": {},
   "outputs": [],
   "source": [
    "all_ls = [l1,l2,l3,l4, l5 ]"
   ]
  },
  {
   "cell_type": "code",
   "execution_count": 41,
   "metadata": {
    "scrolled": true
   },
   "outputs": [
    {
     "name": "stdout",
     "output_type": "stream",
     "text": [
      "a1: [ 2  3  4  5 10] \n",
      "a2: [ 2  3  4  5 10] \n",
      " sum a1+a2:\n",
      "[ 4  6  8 10 20]\n",
      "--- \n",
      "a1: [ 2  3  4  5 10] \n",
      "a2: [ 2  3  4  5 10] \n",
      " sum a2+a1:\n",
      "[ 4  6  8 10 20]\n",
      "--- \n",
      "a1: [ 2  3  4  5 10] \n",
      "a2: [5] \n",
      " sum a1+a2:\n",
      "[ 7  8  9 10 15]\n",
      "--- \n",
      "a1: [ 2  3  4  5 10] \n",
      "a2: [5] \n",
      " sum a2+a1:\n",
      "[ 7  8  9 10 15]\n",
      "--- \n",
      "a1: [ 2  3  4  5 10] \n",
      "a2: [ 2  5 11] \n",
      " sum a1+a2:\n",
      "operands could not be broadcast together with shapes (5,) (3,) \n",
      "--- \n",
      "a1: [ 2  3  4  5 10] \n",
      "a2: [ 2  5 11] \n",
      " sum a2+a1:\n",
      "operands could not be broadcast together with shapes (3,) (5,) \n",
      "--- \n",
      "a1: [ 2  3  4  5 10] \n",
      "a2: 4 \n",
      " sum a1+a2:\n",
      "[ 6  7  8  9 14]\n",
      "--- \n",
      "a1: [ 2  3  4  5 10] \n",
      "a2: 4 \n",
      " sum a2+a1:\n",
      "[ 6  7  8  9 14]\n",
      "--- \n",
      "a1: [ 2  3  4  5 10] \n",
      "a2: [[ 2  3  4  5  6]\n",
      " [ 1  2 34 56  1]] \n",
      " sum a1+a2:\n",
      "[[ 4  6  8 10 16]\n",
      " [ 3  5 38 61 11]]\n",
      "--- \n",
      "a1: [ 2  3  4  5 10] \n",
      "a2: [[ 2  3  4  5  6]\n",
      " [ 1  2 34 56  1]] \n",
      " sum a2+a1:\n",
      "[[ 4  6  8 10 16]\n",
      " [ 3  5 38 61 11]]\n",
      "--- \n",
      "a1: [5] \n",
      "a2: [ 2  3  4  5 10] \n",
      " sum a1+a2:\n",
      "[ 7  8  9 10 15]\n",
      "--- \n",
      "a1: [5] \n",
      "a2: [ 2  3  4  5 10] \n",
      " sum a2+a1:\n",
      "[ 7  8  9 10 15]\n",
      "--- \n",
      "a1: [5] \n",
      "a2: [5] \n",
      " sum a1+a2:\n",
      "[10]\n",
      "--- \n",
      "a1: [5] \n",
      "a2: [5] \n",
      " sum a2+a1:\n",
      "[10]\n",
      "--- \n",
      "a1: [5] \n",
      "a2: [ 2  5 11] \n",
      " sum a1+a2:\n",
      "[ 7 10 16]\n",
      "--- \n",
      "a1: [5] \n",
      "a2: [ 2  5 11] \n",
      " sum a2+a1:\n",
      "[ 7 10 16]\n",
      "--- \n",
      "a1: [5] \n",
      "a2: 4 \n",
      " sum a1+a2:\n",
      "[9]\n",
      "--- \n",
      "a1: [5] \n",
      "a2: 4 \n",
      " sum a2+a1:\n",
      "[9]\n",
      "--- \n",
      "a1: [5] \n",
      "a2: [[ 2  3  4  5  6]\n",
      " [ 1  2 34 56  1]] \n",
      " sum a1+a2:\n",
      "[[ 7  8  9 10 11]\n",
      " [ 6  7 39 61  6]]\n",
      "--- \n",
      "a1: [5] \n",
      "a2: [[ 2  3  4  5  6]\n",
      " [ 1  2 34 56  1]] \n",
      " sum a2+a1:\n",
      "[[ 7  8  9 10 11]\n",
      " [ 6  7 39 61  6]]\n",
      "--- \n",
      "a1: [ 2  5 11] \n",
      "a2: [ 2  3  4  5 10] \n",
      " sum a1+a2:\n",
      "operands could not be broadcast together with shapes (3,) (5,) \n",
      "--- \n",
      "a1: [ 2  5 11] \n",
      "a2: [ 2  3  4  5 10] \n",
      " sum a2+a1:\n",
      "operands could not be broadcast together with shapes (5,) (3,) \n",
      "--- \n",
      "a1: [ 2  5 11] \n",
      "a2: [5] \n",
      " sum a1+a2:\n",
      "[ 7 10 16]\n",
      "--- \n",
      "a1: [ 2  5 11] \n",
      "a2: [5] \n",
      " sum a2+a1:\n",
      "[ 7 10 16]\n",
      "--- \n",
      "a1: [ 2  5 11] \n",
      "a2: [ 2  5 11] \n",
      " sum a1+a2:\n",
      "[ 4 10 22]\n",
      "--- \n",
      "a1: [ 2  5 11] \n",
      "a2: [ 2  5 11] \n",
      " sum a2+a1:\n",
      "[ 4 10 22]\n",
      "--- \n",
      "a1: [ 2  5 11] \n",
      "a2: 4 \n",
      " sum a1+a2:\n",
      "[ 6  9 15]\n",
      "--- \n",
      "a1: [ 2  5 11] \n",
      "a2: 4 \n",
      " sum a2+a1:\n",
      "[ 6  9 15]\n",
      "--- \n",
      "a1: [ 2  5 11] \n",
      "a2: [[ 2  3  4  5  6]\n",
      " [ 1  2 34 56  1]] \n",
      " sum a1+a2:\n",
      "operands could not be broadcast together with shapes (3,) (2,5) \n",
      "--- \n",
      "a1: [ 2  5 11] \n",
      "a2: [[ 2  3  4  5  6]\n",
      " [ 1  2 34 56  1]] \n",
      " sum a2+a1:\n",
      "operands could not be broadcast together with shapes (2,5) (3,) \n",
      "--- \n",
      "a1: 4 \n",
      "a2: [ 2  3  4  5 10] \n",
      " sum a1+a2:\n",
      "[ 6  7  8  9 14]\n",
      "--- \n",
      "a1: 4 \n",
      "a2: [ 2  3  4  5 10] \n",
      " sum a2+a1:\n",
      "[ 6  7  8  9 14]\n",
      "--- \n",
      "a1: 4 \n",
      "a2: [5] \n",
      " sum a1+a2:\n",
      "[9]\n",
      "--- \n",
      "a1: 4 \n",
      "a2: [5] \n",
      " sum a2+a1:\n",
      "[9]\n",
      "--- \n",
      "a1: 4 \n",
      "a2: [ 2  5 11] \n",
      " sum a1+a2:\n",
      "[ 6  9 15]\n",
      "--- \n",
      "a1: 4 \n",
      "a2: [ 2  5 11] \n",
      " sum a2+a1:\n",
      "[ 6  9 15]\n",
      "--- \n",
      "a1: 4 \n",
      "a2: 4 \n",
      " sum a1+a2:\n",
      "8\n",
      "--- \n",
      "a1: 4 \n",
      "a2: 4 \n",
      " sum a2+a1:\n",
      "8\n",
      "--- \n",
      "a1: 4 \n",
      "a2: [[ 2  3  4  5  6]\n",
      " [ 1  2 34 56  1]] \n",
      " sum a1+a2:\n",
      "[[ 6  7  8  9 10]\n",
      " [ 5  6 38 60  5]]\n",
      "--- \n",
      "a1: 4 \n",
      "a2: [[ 2  3  4  5  6]\n",
      " [ 1  2 34 56  1]] \n",
      " sum a2+a1:\n",
      "[[ 6  7  8  9 10]\n",
      " [ 5  6 38 60  5]]\n",
      "--- \n",
      "a1: [[ 2  3  4  5  6]\n",
      " [ 1  2 34 56  1]] \n",
      "a2: [ 2  3  4  5 10] \n",
      " sum a1+a2:\n",
      "[[ 4  6  8 10 16]\n",
      " [ 3  5 38 61 11]]\n",
      "--- \n",
      "a1: [[ 2  3  4  5  6]\n",
      " [ 1  2 34 56  1]] \n",
      "a2: [ 2  3  4  5 10] \n",
      " sum a2+a1:\n",
      "[[ 4  6  8 10 16]\n",
      " [ 3  5 38 61 11]]\n",
      "--- \n",
      "a1: [[ 2  3  4  5  6]\n",
      " [ 1  2 34 56  1]] \n",
      "a2: [5] \n",
      " sum a1+a2:\n",
      "[[ 7  8  9 10 11]\n",
      " [ 6  7 39 61  6]]\n",
      "--- \n",
      "a1: [[ 2  3  4  5  6]\n",
      " [ 1  2 34 56  1]] \n",
      "a2: [5] \n",
      " sum a2+a1:\n",
      "[[ 7  8  9 10 11]\n",
      " [ 6  7 39 61  6]]\n",
      "--- \n",
      "a1: [[ 2  3  4  5  6]\n",
      " [ 1  2 34 56  1]] \n",
      "a2: [ 2  5 11] \n",
      " sum a1+a2:\n",
      "operands could not be broadcast together with shapes (2,5) (3,) \n",
      "--- \n",
      "a1: [[ 2  3  4  5  6]\n",
      " [ 1  2 34 56  1]] \n",
      "a2: [ 2  5 11] \n",
      " sum a2+a1:\n",
      "operands could not be broadcast together with shapes (3,) (2,5) \n",
      "--- \n",
      "a1: [[ 2  3  4  5  6]\n",
      " [ 1  2 34 56  1]] \n",
      "a2: 4 \n",
      " sum a1+a2:\n",
      "[[ 6  7  8  9 10]\n",
      " [ 5  6 38 60  5]]\n",
      "--- \n",
      "a1: [[ 2  3  4  5  6]\n",
      " [ 1  2 34 56  1]] \n",
      "a2: 4 \n",
      " sum a2+a1:\n",
      "[[ 6  7  8  9 10]\n",
      " [ 5  6 38 60  5]]\n",
      "--- \n",
      "a1: [[ 2  3  4  5  6]\n",
      " [ 1  2 34 56  1]] \n",
      "a2: [[ 2  3  4  5  6]\n",
      " [ 1  2 34 56  1]] \n",
      " sum a1+a2:\n",
      "[[  4   6   8  10  12]\n",
      " [  2   4  68 112   2]]\n",
      "--- \n",
      "a1: [[ 2  3  4  5  6]\n",
      " [ 1  2 34 56  1]] \n",
      "a2: [[ 2  3  4  5  6]\n",
      " [ 1  2 34 56  1]] \n",
      " sum a2+a1:\n",
      "[[  4   6   8  10  12]\n",
      " [  2   4  68 112   2]]\n",
      "--- \n"
     ]
    }
   ],
   "source": [
    "for a1 in all_ls :\n",
    "    for a2 in all_ls: \n",
    "        try:\n",
    "            print \"a1:\",a1,\"\\na2:\",a2, \"\\n sum a1+a2:\\n\",a1+a2 \n",
    "        except Exception as e: \n",
    "            print e \n",
    "        print \"--- \"\n",
    "        try: \n",
    "            print \"a1:\",a1,\"\\na2:\",a2, \"\\n sum a2+a1:\\n\",a2+a1\n",
    "            #print \"a1:\",a1,\"a2:\",a2, \"sum a2+a1: \",a2+a1\n",
    "        except Exception as e : \n",
    "            print e  \n",
    "        print \"--- \""
   ]
  },
  {
   "cell_type": "markdown",
   "metadata": {},
   "source": [
    "#### from above : \n",
    "\n",
    "* if one is of dim n-1 and other of dim n, and has length same as length of each element of the matrix( having larger dim), add to each element of array/ matrix  \n",
    "* if equal-lengths  , do element wise addition \n",
    "* else throws error "
   ]
  },
  {
   "cell_type": "markdown",
   "metadata": {},
   "source": [
    "#### tying with matrix of dim 3 + dim 2 to confirm above: "
   ]
  },
  {
   "cell_type": "code",
   "execution_count": 76,
   "metadata": {},
   "outputs": [],
   "source": [
    "m3 = np.random.rand(3,4,5)"
   ]
  },
  {
   "cell_type": "code",
   "execution_count": 102,
   "metadata": {},
   "outputs": [],
   "source": [
    "m2 = np.random.rand(4,1)\n",
    "m2= np.ones([4,1])"
   ]
  },
  {
   "cell_type": "code",
   "execution_count": 112,
   "metadata": {},
   "outputs": [],
   "source": [
    "m2 = np.asarray([ [1,2,3,4,6],[5,12,13,50,9] ,[0,12,14,2,14],[78,1,5,6,12] ])"
   ]
  },
  {
   "cell_type": "code",
   "execution_count": 113,
   "metadata": {},
   "outputs": [
    {
     "data": {
      "text/plain": [
       "array([[[ 1.84972489,  2.28702805,  3.4358031 ,  4.96019948,\n",
       "          6.79397433],\n",
       "        [ 5.58971861, 12.58846972, 13.18012893, 50.04505818,\n",
       "          9.26833468],\n",
       "        [ 0.72444199, 12.9041326 , 14.881998  ,  2.40379441,\n",
       "         14.54198251],\n",
       "        [78.91090152,  1.4063313 ,  5.47245381,  6.21906354,\n",
       "         12.10063887]],\n",
       "\n",
       "       [[ 1.85275965,  2.64799504,  3.44189271,  4.65425008,\n",
       "          6.09584986],\n",
       "        [ 5.83311956, 12.92066935, 13.55895847, 50.70768082,\n",
       "          9.77972925],\n",
       "        [ 0.39216178, 12.70921718, 14.28969084,  2.32982631,\n",
       "         14.9502369 ],\n",
       "        [78.22870309,  1.20975421,  5.7273663 ,  6.99715849,\n",
       "         12.63259719]],\n",
       "\n",
       "       [[ 1.20415971,  2.14790835,  3.11241362,  4.76040997,\n",
       "          6.82113343],\n",
       "        [ 5.10732813, 12.05565231, 13.656811  , 50.27504249,\n",
       "          9.94407866],\n",
       "        [ 0.94273988, 12.81275957, 14.11585612,  2.57095562,\n",
       "         14.85214747],\n",
       "        [78.23125448,  1.68820064,  5.81006576,  6.17438329,\n",
       "         12.17271947]]])"
      ]
     },
     "execution_count": 113,
     "metadata": {},
     "output_type": "execute_result"
    }
   ],
   "source": [
    "m3+m2"
   ]
  },
  {
   "cell_type": "markdown",
   "metadata": {},
   "source": [
    "#### I can only add elements of shape n-1 with each element having size equal to inner elemet or the innermost shape being euqal to 1 "
   ]
  },
  {
   "cell_type": "markdown",
   "metadata": {},
   "source": [
    "## Now coming to np.sum( )"
   ]
  },
  {
   "cell_type": "code",
   "execution_count": 116,
   "metadata": {},
   "outputs": [],
   "source": [
    "a = np.asarray([1,2])\n",
    "b = np.asarray([3,4])"
   ]
  },
  {
   "cell_type": "code",
   "execution_count": 119,
   "metadata": {},
   "outputs": [
    {
     "name": "stdout",
     "output_type": "stream",
     "text": [
      "\n",
      "    Sum of array elements over a given axis.\n",
      "\n",
      "    Parameters\n",
      "    ----------\n",
      "    a : array_like\n",
      "        Elements to sum.\n",
      "    axis : None or int or tuple of ints, optional\n",
      "        Axis or axes along which a sum is performed.  The default,\n",
      "        axis=None, will sum all of the elements of the input array.  If\n",
      "        axis is negative it counts from the last to the first axis.\n",
      "\n",
      "        .. versionadded:: 1.7.0\n",
      "\n",
      "        If axis is a tuple of ints, a sum is performed on all of the axes\n",
      "        specified in the tuple instead of a single axis or all the axes as\n",
      "        before.\n",
      "    dtype : dtype, optional\n",
      "        The type of the returned array and of the accumulator in which the\n",
      "        elements are summed.  The dtype of `a` is used by default unless `a`\n",
      "        has an integer dtype of less precision than the default platform\n",
      "        integer.  In that case, if `a` is signed then the platform integer\n",
      "        is used while if `a` is unsigned then an unsigned integer of the\n",
      "        same precision as the platform integer is used.\n",
      "    out : ndarray, optional\n",
      "        Alternative output array in which to place the result. It must have\n",
      "        the same shape as the expected output, but the type of the output\n",
      "        values will be cast if necessary.\n",
      "    keepdims : bool, optional\n",
      "        If this is set to True, the axes which are reduced are left\n",
      "        in the result as dimensions with size one. With this option,\n",
      "        the result will broadcast correctly against the input array.\n",
      "\n",
      "        If the default value is passed, then `keepdims` will not be\n",
      "        passed through to the `sum` method of sub-classes of\n",
      "        `ndarray`, however any non-default value will be.  If the\n",
      "        sub-classes `sum` method does not implement `keepdims` any\n",
      "        exceptions will be raised.\n",
      "\n",
      "    Returns\n",
      "    -------\n",
      "    sum_along_axis : ndarray\n",
      "        An array with the same shape as `a`, with the specified\n",
      "        axis removed.   If `a` is a 0-d array, or if `axis` is None, a scalar\n",
      "        is returned.  If an output array is specified, a reference to\n",
      "        `out` is returned.\n",
      "\n",
      "    See Also\n",
      "    --------\n",
      "    ndarray.sum : Equivalent method.\n",
      "\n",
      "    cumsum : Cumulative sum of array elements.\n",
      "\n",
      "    trapz : Integration of array values using the composite trapezoidal rule.\n",
      "\n",
      "    mean, average\n",
      "\n",
      "    Notes\n",
      "    -----\n",
      "    Arithmetic is modular when using integer types, and no error is\n",
      "    raised on overflow.\n",
      "\n",
      "    The sum of an empty array is the neutral element 0:\n",
      "\n",
      "    >>> np.sum([])\n",
      "    0.0\n",
      "\n",
      "    Examples\n",
      "    --------\n",
      "    >>> np.sum([0.5, 1.5])\n",
      "    2.0\n",
      "    >>> np.sum([0.5, 0.7, 0.2, 1.5], dtype=np.int32)\n",
      "    1\n",
      "    >>> np.sum([[0, 1], [0, 5]])\n",
      "    6\n",
      "    >>> np.sum([[0, 1], [0, 5]], axis=0)\n",
      "    array([0, 6])\n",
      "    >>> np.sum([[0, 1], [0, 5]], axis=1)\n",
      "    array([1, 5])\n",
      "\n",
      "    If the accumulator is too small, overflow occurs:\n",
      "\n",
      "    >>> np.ones(128, dtype=np.int8).sum(dtype=np.int8)\n",
      "    -128\n",
      "\n",
      "    \n"
     ]
    }
   ],
   "source": [
    "print np.sum.func_doc"
   ]
  },
  {
   "cell_type": "markdown",
   "metadata": {},
   "source": [
    "## params to check: \n",
    "--- \n",
    "* what happens with different values of axis.\n",
    "* What happens with different values of keep_dims\n",
    "* How is working different from the `+` op tested above. \n",
    "lets get started  :p  belowww. "
   ]
  },
  {
   "cell_type": "markdown",
   "metadata": {},
   "source": [
    "### dimensions and axis explained clearly [here](https://stackoverflow.com/questions/40857930/how-does-numpy-sum-with-axis-work) "
   ]
  },
  {
   "cell_type": "code",
   "execution_count": 162,
   "metadata": {},
   "outputs": [],
   "source": [
    "l1 = np.array([2,3,4,5,10])\n",
    "l2 = np.array([5])\n",
    "l3 = np.array([2,5,11])\n",
    "l4 = np.array(4)\n",
    "l5 = np.array([[2,3,4,5,6],[1,2,34,56,1]])\n",
    "l6 = np.random.randint(-50,50, size =[3,4,5] )"
   ]
  },
  {
   "cell_type": "code",
   "execution_count": 164,
   "metadata": {},
   "outputs": [],
   "source": [
    "all_ls = [l1,l2,l3,l4,l5,l6]"
   ]
  },
  {
   "cell_type": "code",
   "execution_count": 165,
   "metadata": {
    "scrolled": false
   },
   "outputs": [
    {
     "name": "stdout",
     "output_type": "stream",
     "text": [
      " for l= \n",
      "[ 2  3  4  5 10]\n",
      "dim of ll  1 , shape of ll  (5,)\n",
      "regular:\n",
      "24\n",
      "()\n",
      "axis 0 :\n",
      "24\n",
      "()\n",
      "axis 1 :\n",
      "axis 1 is out of bounds for array of dimension 1\n",
      "axis 2 :\n",
      "axis 2 is out of bounds for array of dimension 1\n",
      "======================================\n",
      " for l= \n",
      "[5]\n",
      "dim of ll  1 , shape of ll  (1,)\n",
      "regular:\n",
      "5\n",
      "()\n",
      "axis 0 :\n",
      "5\n",
      "()\n",
      "axis 1 :\n",
      "axis 1 is out of bounds for array of dimension 1\n",
      "axis 2 :\n",
      "axis 2 is out of bounds for array of dimension 1\n",
      "======================================\n",
      " for l= \n",
      "[ 2  5 11]\n",
      "dim of ll  1 , shape of ll  (3,)\n",
      "regular:\n",
      "18\n",
      "()\n",
      "axis 0 :\n",
      "18\n",
      "()\n",
      "axis 1 :\n",
      "axis 1 is out of bounds for array of dimension 1\n",
      "axis 2 :\n",
      "axis 2 is out of bounds for array of dimension 1\n",
      "======================================\n",
      " for l= \n",
      "4\n",
      "dim of ll  0 , shape of ll  ()\n",
      "regular:\n",
      "4\n",
      "()\n",
      "axis 0 :\n",
      "4\n",
      "()\n",
      "axis 1 :\n",
      "axis 1 is out of bounds for array of dimension 0\n",
      "axis 2 :\n",
      "axis 2 is out of bounds for array of dimension 0\n",
      "======================================\n",
      " for l= \n",
      "[[ 2  3  4  5  6]\n",
      " [ 1  2 34 56  1]]\n",
      "dim of ll  2 , shape of ll  (2, 5)\n",
      "regular:\n",
      "114\n",
      "()\n",
      "axis 0 :\n",
      "[ 3  5 38 61  7]\n",
      "(5,)\n",
      "axis 1 :\n",
      "[20 94]\n",
      "(2,)\n",
      "axis 2 :\n",
      "axis 2 is out of bounds for array of dimension 2\n",
      "======================================\n",
      " for l= \n",
      "[[[-46 -25 -21  48  44]\n",
      "  [ 16 -32  -2 -24  11]\n",
      "  [-17  31 -20  35  25]\n",
      "  [-24  27 -41  38  22]]\n",
      "\n",
      " [[-49  20  42  35  38]\n",
      "  [-28  29  19  20 -44]\n",
      "  [ -4 -36 -27  26 -18]\n",
      "  [-15  -1  40  -9  32]]\n",
      "\n",
      " [[ 45  18 -11  25  26]\n",
      "  [ 22   7  -7  15  24]\n",
      "  [ 15 -18  41  30  17]\n",
      "  [-25  40 -12 -17  17]]]\n",
      "dim of ll  3 , shape of ll  (3, 4, 5)\n",
      "regular:\n",
      "367\n",
      "()\n",
      "axis 0 :\n",
      "[[-50  13  10 108 108]\n",
      " [ 10   4  10  11  -9]\n",
      " [ -6 -23  -6  91  24]\n",
      " [-64  66 -13  12  71]]\n",
      "(4, 5)\n",
      "axis 1 :\n",
      "[[-71   1 -84  97 102]\n",
      " [-96  12  74  72   8]\n",
      " [ 57  47  11  53  84]]\n",
      "(3, 5)\n",
      "axis 2 :\n",
      "[[  0 -31  54  22]\n",
      " [ 86  -4 -59  47]\n",
      " [103  61  85   3]]\n",
      "(3, 4)\n",
      "======================================\n"
     ]
    }
   ],
   "source": [
    "for ll in all_ls :\n",
    "    print \" for l= \\n\",ll\n",
    "    print \"dim of ll \",np.ndim(ll),\", shape of ll \", ll.shape \n",
    "    print \"regular:\"\n",
    "    print np.sum( ll )\n",
    "    print np.sum( ll ).shape \n",
    "    print \"axis 0 :\"\n",
    "    print np.sum( ll, axis = 0  )\n",
    "    print np.sum( ll, axis = 0  ).shape \n",
    "    print \"axis 1 :\"\n",
    "    try:\n",
    "        print np.sum( ll, axis = 1  )\n",
    "        print np.sum( ll, axis = 1  ).shape \n",
    "    except Exception as e : \n",
    "        print e \n",
    "    print \"axis 2 :\"\n",
    "    try: \n",
    "        print np.sum( ll, axis = 2  )\n",
    "        print np.sum( ll, axis = 2  ).shape \n",
    "    except Exception as e : \n",
    "        print e \n",
    "    print \"======================================\""
   ]
  },
  {
   "cell_type": "markdown",
   "metadata": {},
   "source": [
    "From above results: The axis along which sum takes place is dropped, If `original shape  = [s1,s2,s3,s4..s_n]` and sum along `axis = i` , then `new dim = [a1,a2,a3..] without s_i` "
   ]
  },
  {
   "cell_type": "markdown",
   "metadata": {},
   "source": [
    "##### study with l6: "
   ]
  },
  {
   "cell_type": "code",
   "execution_count": 169,
   "metadata": {},
   "outputs": [
    {
     "name": "stdout",
     "output_type": "stream",
     "text": [
      "[[[-46 -25 -21  48  44]\n",
      "  [ 16 -32  -2 -24  11]\n",
      "  [-17  31 -20  35  25]\n",
      "  [-24  27 -41  38  22]]\n",
      "\n",
      " [[-49  20  42  35  38]\n",
      "  [-28  29  19  20 -44]\n",
      "  [ -4 -36 -27  26 -18]\n",
      "  [-15  -1  40  -9  32]]\n",
      "\n",
      " [[ 45  18 -11  25  26]\n",
      "  [ 22   7  -7  15  24]\n",
      "  [ 15 -18  41  30  17]\n",
      "  [-25  40 -12 -17  17]]]\n"
     ]
    }
   ],
   "source": [
    "print l6"
   ]
  },
  {
   "cell_type": "code",
   "execution_count": 170,
   "metadata": {},
   "outputs": [
    {
     "name": "stdout",
     "output_type": "stream",
     "text": [
      "(3, 4, 5)\n",
      "3\n"
     ]
    }
   ],
   "source": [
    "print l6.shape \n",
    "print np.ndim(l6)"
   ]
  },
  {
   "cell_type": "code",
   "execution_count": 173,
   "metadata": {},
   "outputs": [
    {
     "name": "stdout",
     "output_type": "stream",
     "text": [
      "regular sum: \n",
      "367\n"
     ]
    }
   ],
   "source": [
    "print \"regular sum: \"\n",
    "print np.sum(l6)"
   ]
  },
  {
   "cell_type": "code",
   "execution_count": 176,
   "metadata": {},
   "outputs": [
    {
     "name": "stdout",
     "output_type": "stream",
     "text": [
      "axis 0 : drops axis 0 , new shape should be (4,5) \n",
      "[[-50  13  10 108 108]\n",
      " [ 10   4  10  11  -9]\n",
      " [ -6 -23  -6  91  24]\n",
      " [-64  66 -13  12  71]]\n",
      "(4, 5)\n"
     ]
    }
   ],
   "source": [
    "print \"axis 0 : drops axis 0 , new shape should be (4,5) \"\n",
    "print np.sum(l6, axis = 0 )\n",
    "print np.sum(l6, axis = 0 ).shape "
   ]
  },
  {
   "cell_type": "code",
   "execution_count": 177,
   "metadata": {},
   "outputs": [
    {
     "name": "stdout",
     "output_type": "stream",
     "text": [
      "axis 1 : drops axis 1 , new shape should be (3,5) \n",
      "[[-71   1 -84  97 102]\n",
      " [-96  12  74  72   8]\n",
      " [ 57  47  11  53  84]]\n",
      "(3, 5)\n"
     ]
    }
   ],
   "source": [
    "print \"axis 1 : drops axis 1 , new shape should be (3,5) \"\n",
    "print np.sum(l6, axis = 1 )\n",
    "print np.sum(l6, axis = 1 ).shape "
   ]
  },
  {
   "cell_type": "code",
   "execution_count": 180,
   "metadata": {},
   "outputs": [
    {
     "name": "stdout",
     "output_type": "stream",
     "text": [
      "axis 2 : drops axis 2 , new shape should be (3,4 ) \n",
      "[[  0 -31  54  22]\n",
      " [ 86  -4 -59  47]\n",
      " [103  61  85   3]]\n",
      "(3, 4)\n"
     ]
    }
   ],
   "source": [
    "print \"axis 2 : drops axis 2 , new shape should be (3,4 ) \"\n",
    "print np.sum(l6, axis = 2 )\n",
    "print np.sum(l6, axis = 2 ).shape "
   ]
  },
  {
   "cell_type": "code",
   "execution_count": 183,
   "metadata": {},
   "outputs": [
    {
     "name": "stdout",
     "output_type": "stream",
     "text": [
      "axis 0 : drops axis 0\n",
      "[[[-50  13  10 108 108]\n",
      "  [ 10   4  10  11  -9]\n",
      "  [ -6 -23  -6  91  24]\n",
      "  [-64  66 -13  12  71]]]\n",
      "(1, 4, 5)\n"
     ]
    }
   ],
   "source": [
    "## Now testing keep-dims: \n",
    "print \"axis 0 : drops axis 0\"\n",
    "print np.sum(l6, axis = 0, keepdims= True  )\n",
    "print np.sum(l6, axis = 0, keepdims= True  ).shape "
   ]
  },
  {
   "cell_type": "code",
   "execution_count": 182,
   "metadata": {},
   "outputs": [
    {
     "name": "stdout",
     "output_type": "stream",
     "text": [
      "axis 1 : drops axis 1 \n",
      "[[[-71   1 -84  97 102]]\n",
      "\n",
      " [[-96  12  74  72   8]]\n",
      "\n",
      " [[ 57  47  11  53  84]]]\n",
      "(3, 1, 5)\n"
     ]
    }
   ],
   "source": [
    "## Now testing keep-dims: \n",
    "print \"axis 1 : drops axis 1 \"\n",
    "print np.sum(l6, axis = 1, keepdims= True  )\n",
    "print np.sum(l6, axis = 1, keepdims= True  ).shape "
   ]
  },
  {
   "cell_type": "code",
   "execution_count": 184,
   "metadata": {},
   "outputs": [
    {
     "name": "stdout",
     "output_type": "stream",
     "text": [
      "axis 2 : drops axis 2 \n",
      "[[[  0]\n",
      "  [-31]\n",
      "  [ 54]\n",
      "  [ 22]]\n",
      "\n",
      " [[ 86]\n",
      "  [ -4]\n",
      "  [-59]\n",
      "  [ 47]]\n",
      "\n",
      " [[103]\n",
      "  [ 61]\n",
      "  [ 85]\n",
      "  [  3]]]\n",
      "(3, 4, 1)\n"
     ]
    }
   ],
   "source": [
    "## Now testing keep-dims: \n",
    "print \"axis 2 : drops axis 2 \"\n",
    "print np.sum(l6, axis = 2, keepdims= True  )\n",
    "print np.sum(l6, axis = 2, keepdims= True  ).shape "
   ]
  },
  {
   "cell_type": "markdown",
   "metadata": {},
   "source": [
    "The axis which was originall dropped becomes 1 when using `keep_dims  = True `"
   ]
  }
 ],
 "metadata": {
  "kernelspec": {
   "display_name": "Python 2",
   "language": "python",
   "name": "python2"
  },
  "language_info": {
   "codemirror_mode": {
    "name": "ipython",
    "version": 2
   },
   "file_extension": ".py",
   "mimetype": "text/x-python",
   "name": "python",
   "nbconvert_exporter": "python",
   "pygments_lexer": "ipython2",
   "version": "2.7.14"
  }
 },
 "nbformat": 4,
 "nbformat_minor": 2
}
